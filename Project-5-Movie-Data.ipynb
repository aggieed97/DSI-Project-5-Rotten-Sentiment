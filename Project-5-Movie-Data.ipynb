{
 "cells": [
  {
   "cell_type": "markdown",
   "metadata": {},
   "source": [
    "<h1><center><font color=red>**Rotten Sentiment with Tomatoes**</font></center></h1>\n",
    "<h2><center>**Sentiment Analysis of Movie Reviews from Rotten Tomatoes**</center></h2>\n",
    "<h3><center>General Assembly Data Science Immersive Project Five</center></h3> \n",
    "<h4><center>Data and Description at https://www.kaggle.com/c/sentiment-analysis-on-movie-reviews</center></h4>"
   ]
  },
  {
   "cell_type": "code",
   "execution_count": 1,
   "metadata": {},
   "outputs": [
    {
     "name": "stderr",
     "output_type": "stream",
     "text": [
      "Using TensorFlow backend.\n"
     ]
    }
   ],
   "source": [
    "# Standard Imports\n",
    "\n",
    "import numpy as np\n",
    "import pandas as pd\n",
    "\n",
    "# NLP Imports\n",
    "import re\n",
    "import nltk\n",
    "from nltk.corpus import stopwords\n",
    "from nltk.stem.porter import PorterStemmer\n",
    "from nltk.stem import WordNetLemmatizer\n",
    "from sklearn.feature_extraction.text import TfidfVectorizer, CountVectorizer, TfidfTransformer\n",
    "\n",
    "# Metrics\n",
    "from sklearn.model_selection import GridSearchCV, train_test_split, cross_val_score\n",
    "from sklearn.metrics import classification_report, confusion_matrix, roc_curve, auc\n",
    "\n",
    "# Different sklearn Models\n",
    "from sklearn.linear_model import LogisticRegression\n",
    "from sklearn.naive_bayes import MultinomialNB, BernoulliNB, GaussianNB\n",
    "from sklearn.neighbors import KNeighborsClassifier\n",
    "from sklearn.tree import DecisionTreeRegressor, DecisionTreeClassifier\n",
    "from sklearn.ensemble import RandomForestClassifier, ExtraTreesClassifier, BaggingClassifier\n",
    "from sklearn.pipeline import Pipeline\n",
    "from sklearn.svm import SVC\n",
    "from sklearn import svm\n",
    "\n",
    "# Neural Network Models\n",
    "from sklearn.preprocessing import StandardScaler\n",
    "from keras.models import Sequential\n",
    "from keras.layers import Dense, Dropout\n",
    "from keras.utils import to_categorical\n",
    "\n",
    "# Graph Imports\n",
    "import seaborn as sns\n",
    "import matplotlib.pyplot as plt\n",
    "%matplotlib inline"
   ]
  },
  {
   "cell_type": "markdown",
   "metadata": {},
   "source": [
    "### Reading in the data sets:\n",
    "- Train: The training data set provided by Kaggle\n",
    "- Test: The test set which is similar to the train set but missing the sentiment column to be solved.\n",
    "- Sample Submission File: Provided by Kaggle to frame submission file for upload and evaluation."
   ]
  },
  {
   "cell_type": "code",
   "execution_count": 2,
   "metadata": {},
   "outputs": [],
   "source": [
    "train = pd.read_csv('./movie_data/train.tsv',sep='\\t')\n",
    "test = pd.read_csv('./movie_data/test.tsv',sep='\\t')\n",
    "\n",
    "sample = pd.read_csv('./movie_data/sampleSubmission.csv')"
   ]
  },
  {
   "cell_type": "code",
   "execution_count": 3,
   "metadata": {},
   "outputs": [
    {
     "data": {
      "text/html": [
       "<div>\n",
       "<style scoped>\n",
       "    .dataframe tbody tr th:only-of-type {\n",
       "        vertical-align: middle;\n",
       "    }\n",
       "\n",
       "    .dataframe tbody tr th {\n",
       "        vertical-align: top;\n",
       "    }\n",
       "\n",
       "    .dataframe thead th {\n",
       "        text-align: right;\n",
       "    }\n",
       "</style>\n",
       "<table border=\"1\" class=\"dataframe\">\n",
       "  <thead>\n",
       "    <tr style=\"text-align: right;\">\n",
       "      <th></th>\n",
       "      <th>PhraseId</th>\n",
       "      <th>SentenceId</th>\n",
       "      <th>Phrase</th>\n",
       "    </tr>\n",
       "  </thead>\n",
       "  <tbody>\n",
       "    <tr>\n",
       "      <th>0</th>\n",
       "      <td>156061</td>\n",
       "      <td>8545</td>\n",
       "      <td>An intermittently pleasing but mostly routine ...</td>\n",
       "    </tr>\n",
       "    <tr>\n",
       "      <th>1</th>\n",
       "      <td>156062</td>\n",
       "      <td>8545</td>\n",
       "      <td>An intermittently pleasing but mostly routine ...</td>\n",
       "    </tr>\n",
       "    <tr>\n",
       "      <th>2</th>\n",
       "      <td>156063</td>\n",
       "      <td>8545</td>\n",
       "      <td>An</td>\n",
       "    </tr>\n",
       "    <tr>\n",
       "      <th>3</th>\n",
       "      <td>156064</td>\n",
       "      <td>8545</td>\n",
       "      <td>intermittently pleasing but mostly routine effort</td>\n",
       "    </tr>\n",
       "    <tr>\n",
       "      <th>4</th>\n",
       "      <td>156065</td>\n",
       "      <td>8545</td>\n",
       "      <td>intermittently pleasing but mostly routine</td>\n",
       "    </tr>\n",
       "  </tbody>\n",
       "</table>\n",
       "</div>"
      ],
      "text/plain": [
       "   PhraseId  SentenceId                                             Phrase\n",
       "0    156061        8545  An intermittently pleasing but mostly routine ...\n",
       "1    156062        8545  An intermittently pleasing but mostly routine ...\n",
       "2    156063        8545                                                 An\n",
       "3    156064        8545  intermittently pleasing but mostly routine effort\n",
       "4    156065        8545         intermittently pleasing but mostly routine"
      ]
     },
     "execution_count": 3,
     "metadata": {},
     "output_type": "execute_result"
    }
   ],
   "source": [
    "#train.head()\n",
    "test.head()"
   ]
  },
  {
   "cell_type": "markdown",
   "metadata": {},
   "source": [
    "### Default Function that determines number of unique values, nulls, data types, etc.\n",
    "- Kaggle data sets are generally pretty clean\n",
    "- No missing values seen, and no issues with data types\n",
    "- Only pre-processing will be to assign numeric values to Sentiment column"
   ]
  },
  {
   "cell_type": "code",
   "execution_count": 4,
   "metadata": {},
   "outputs": [],
   "source": [
    "def dfcheck(data):\n",
    "\n",
    "    #result dataframe\n",
    "    df = pd.DataFrame()\n",
    "    #list the colums\n",
    "    df['columns'] = data.columns.tolist()\n",
    "    #list the datatypes\n",
    "    df['datatype'] = data.dtypes.tolist()\n",
    "    # count of observations\n",
    "    df['count'] = data.count().tolist()\n",
    "    # count of unique values\n",
    "    df['unique'] = [len(data[c].unique()) for c in data]\n",
    "    #list null counts per column\n",
    "    df['nulls'] = data.isnull().sum().tolist()\n",
    "    df['%_null'] = df['nulls'] / df['count']\n",
    "    df = df.drop('count',axis=1)\n",
    "    #compile list of outliers for numeric columns\n",
    "    df['outliers'] = [data[c][data[c] > data[c].mean() + (4 * data[c].std())].count() \n",
    "                if data[c].dtype == 'int64' \n",
    "                or data[c].dtype == 'float64' \n",
    "                else None for c in data]\n",
    "    #returns a summary df\n",
    "    return df"
   ]
  },
  {
   "cell_type": "code",
   "execution_count": 5,
   "metadata": {},
   "outputs": [
    {
     "data": {
      "text/html": [
       "<div>\n",
       "<style scoped>\n",
       "    .dataframe tbody tr th:only-of-type {\n",
       "        vertical-align: middle;\n",
       "    }\n",
       "\n",
       "    .dataframe tbody tr th {\n",
       "        vertical-align: top;\n",
       "    }\n",
       "\n",
       "    .dataframe thead th {\n",
       "        text-align: right;\n",
       "    }\n",
       "</style>\n",
       "<table border=\"1\" class=\"dataframe\">\n",
       "  <thead>\n",
       "    <tr style=\"text-align: right;\">\n",
       "      <th></th>\n",
       "      <th>columns</th>\n",
       "      <th>datatype</th>\n",
       "      <th>unique</th>\n",
       "      <th>nulls</th>\n",
       "      <th>%_null</th>\n",
       "      <th>outliers</th>\n",
       "    </tr>\n",
       "  </thead>\n",
       "  <tbody>\n",
       "    <tr>\n",
       "      <th>0</th>\n",
       "      <td>PhraseId</td>\n",
       "      <td>int64</td>\n",
       "      <td>156060</td>\n",
       "      <td>0</td>\n",
       "      <td>0.0</td>\n",
       "      <td>0.0</td>\n",
       "    </tr>\n",
       "    <tr>\n",
       "      <th>1</th>\n",
       "      <td>SentenceId</td>\n",
       "      <td>int64</td>\n",
       "      <td>8529</td>\n",
       "      <td>0</td>\n",
       "      <td>0.0</td>\n",
       "      <td>0.0</td>\n",
       "    </tr>\n",
       "    <tr>\n",
       "      <th>2</th>\n",
       "      <td>Phrase</td>\n",
       "      <td>object</td>\n",
       "      <td>156060</td>\n",
       "      <td>0</td>\n",
       "      <td>0.0</td>\n",
       "      <td>NaN</td>\n",
       "    </tr>\n",
       "    <tr>\n",
       "      <th>3</th>\n",
       "      <td>Sentiment</td>\n",
       "      <td>int64</td>\n",
       "      <td>5</td>\n",
       "      <td>0</td>\n",
       "      <td>0.0</td>\n",
       "      <td>0.0</td>\n",
       "    </tr>\n",
       "  </tbody>\n",
       "</table>\n",
       "</div>"
      ],
      "text/plain": [
       "      columns datatype  unique  nulls  %_null  outliers\n",
       "0    PhraseId    int64  156060      0     0.0       0.0\n",
       "1  SentenceId    int64    8529      0     0.0       0.0\n",
       "2      Phrase   object  156060      0     0.0       NaN\n",
       "3   Sentiment    int64       5      0     0.0       0.0"
      ]
     },
     "execution_count": 5,
     "metadata": {},
     "output_type": "execute_result"
    }
   ],
   "source": [
    "dfcheck(train)"
   ]
  },
  {
   "cell_type": "markdown",
   "metadata": {},
   "source": [
    "### Following cell takes every categorical numeric value (provided by Kaggle) and assigns their meaning:\n",
    "- Negative\n",
    "- Neutral\n",
    "- Somewhat Negative\n",
    "- Somewhat Positive\n",
    "- Positive"
   ]
  },
  {
   "cell_type": "code",
   "execution_count": 6,
   "metadata": {},
   "outputs": [],
   "source": [
    "Sentiment_words=[]\n",
    "for row in train.Sentiment:\n",
    "    if row ==0:\n",
    "        Sentiment_words.append('negative')\n",
    "    elif row == 1:\n",
    "        Sentiment_words.append('somewhat negative')\n",
    "    elif row == 2:\n",
    "        Sentiment_words.append('neutral')\n",
    "    elif row == 3:\n",
    "        Sentiment_words.append('somewhat positive')\n",
    "    elif row == 4:\n",
    "        Sentiment_words.append('positive')\n",
    "    else:\n",
    "        Sentiment_words.append('Failed')\n",
    "train['Sentiment_words'] = Sentiment_words"
   ]
  },
  {
   "cell_type": "code",
   "execution_count": 7,
   "metadata": {},
   "outputs": [
    {
     "data": {
      "text/html": [
       "<div>\n",
       "<style scoped>\n",
       "    .dataframe tbody tr th:only-of-type {\n",
       "        vertical-align: middle;\n",
       "    }\n",
       "\n",
       "    .dataframe tbody tr th {\n",
       "        vertical-align: top;\n",
       "    }\n",
       "\n",
       "    .dataframe thead th {\n",
       "        text-align: right;\n",
       "    }\n",
       "</style>\n",
       "<table border=\"1\" class=\"dataframe\">\n",
       "  <thead>\n",
       "    <tr style=\"text-align: right;\">\n",
       "      <th></th>\n",
       "      <th>PhraseId</th>\n",
       "      <th>SentenceId</th>\n",
       "      <th>Phrase</th>\n",
       "      <th>Sentiment</th>\n",
       "      <th>Sentiment_words</th>\n",
       "    </tr>\n",
       "  </thead>\n",
       "  <tbody>\n",
       "    <tr>\n",
       "      <th>0</th>\n",
       "      <td>1</td>\n",
       "      <td>1</td>\n",
       "      <td>A series of escapades demonstrating the adage ...</td>\n",
       "      <td>1</td>\n",
       "      <td>somewhat negative</td>\n",
       "    </tr>\n",
       "    <tr>\n",
       "      <th>1</th>\n",
       "      <td>2</td>\n",
       "      <td>1</td>\n",
       "      <td>A series of escapades demonstrating the adage ...</td>\n",
       "      <td>2</td>\n",
       "      <td>neutral</td>\n",
       "    </tr>\n",
       "    <tr>\n",
       "      <th>2</th>\n",
       "      <td>3</td>\n",
       "      <td>1</td>\n",
       "      <td>A series</td>\n",
       "      <td>2</td>\n",
       "      <td>neutral</td>\n",
       "    </tr>\n",
       "    <tr>\n",
       "      <th>3</th>\n",
       "      <td>4</td>\n",
       "      <td>1</td>\n",
       "      <td>A</td>\n",
       "      <td>2</td>\n",
       "      <td>neutral</td>\n",
       "    </tr>\n",
       "    <tr>\n",
       "      <th>4</th>\n",
       "      <td>5</td>\n",
       "      <td>1</td>\n",
       "      <td>series</td>\n",
       "      <td>2</td>\n",
       "      <td>neutral</td>\n",
       "    </tr>\n",
       "  </tbody>\n",
       "</table>\n",
       "</div>"
      ],
      "text/plain": [
       "   PhraseId  SentenceId                                             Phrase  \\\n",
       "0         1           1  A series of escapades demonstrating the adage ...   \n",
       "1         2           1  A series of escapades demonstrating the adage ...   \n",
       "2         3           1                                           A series   \n",
       "3         4           1                                                  A   \n",
       "4         5           1                                             series   \n",
       "\n",
       "   Sentiment    Sentiment_words  \n",
       "0          1  somewhat negative  \n",
       "1          2            neutral  \n",
       "2          2            neutral  \n",
       "3          2            neutral  \n",
       "4          2            neutral  "
      ]
     },
     "execution_count": 7,
     "metadata": {},
     "output_type": "execute_result"
    }
   ],
   "source": [
    "train.head()"
   ]
  },
  {
   "cell_type": "markdown",
   "metadata": {},
   "source": [
    "### Breakout each category to determine how many of each phrase correponds to sentiment."
   ]
  },
  {
   "cell_type": "code",
   "execution_count": 8,
   "metadata": {},
   "outputs": [],
   "source": [
    "sentiment_count = pd.value_counts(train['Sentiment_words'].values)"
   ]
  },
  {
   "cell_type": "code",
   "execution_count": 9,
   "metadata": {},
   "outputs": [
    {
     "data": {
      "image/png": "[encoded data removed]",
      "text/plain": [
       "<matplotlib.figure.Figure at 0x8032179c88>"
      ]
     },
     "metadata": {},
     "output_type": "display_data"
    }
   ],
   "source": [
    "Index = [1,2,3,4,5]\n",
    "plt.figure(figsize=(15,5))\n",
    "plt.bar(Index, sentiment_count, color = 'blue')\n",
    "plt.xticks(Index,['negative','neutral','somewhat negative','somewhat positive','positive'],rotation=45)\n",
    "plt.ylabel('Number of Phrases')\n",
    "plt.xlabel('Sentiment')\n",
    "plt.title('Phrase Count')\n",
    "plt.bar(Index, sentiment_count)\n",
    "for a,b in zip(Index, sentiment_count):\n",
    "    plt.text(a, b, str(b) ,color='green', fontweight='bold')"
   ]
  },
  {
   "cell_type": "code",
   "execution_count": 10,
   "metadata": {},
   "outputs": [
    {
     "name": "stdout",
     "output_type": "stream",
     "text": [
      "The Baseline Accuracy is 0.51\n"
     ]
    }
   ],
   "source": [
    "# Baseline accuracy is higher class divided by total.\n",
    "print('The Baseline Accuracy is', \\\n",
    "      round(train['Sentiment_words'].value_counts().max() / train['Sentiment_words'].value_counts().sum(), 2))"
   ]
  },
  {
   "cell_type": "markdown",
   "metadata": {},
   "source": [
    "### The following function will clean the phrases in the Phrase column eliminating \"English\" stop words and using the WordNet Lemmatizer in NLTK to group together inflections of a word for easier analysis.  With large data sets like the train set, running this function will take several minutes (8-18 depending on which computer I have run the cell)"
   ]
  },
  {
   "cell_type": "code",
   "execution_count": 11,
   "metadata": {},
   "outputs": [],
   "source": [
    "def review_to_words(org_review): \n",
    "    review = org_review\n",
    "    review = re.sub('[^a-zA-Z]', ' ',review)\n",
    "    review = review.lower()\n",
    "    review = review.split()\n",
    "    lemmatizer = WordNetLemmatizer()\n",
    "    review = [lemmatizer.lemmatize(w) for w in review if not w in set(stopwords.words('english'))]\n",
    "    return (' '.join(review))"
   ]
  },
  {
   "cell_type": "code",
   "execution_count": 12,
   "metadata": {},
   "outputs": [
    {
     "name": "stdout",
     "output_type": "stream",
     "text": [
      "Wall time: 17min 25s\n"
     ]
    }
   ],
   "source": [
    "%%time\n",
    "\n",
    "corpus= []\n",
    "for i in range(0, train.shape[0]):\n",
    "    corpus.append(review_to_words(train['Phrase'][i]))"
   ]
  },
  {
   "cell_type": "code",
   "execution_count": 13,
   "metadata": {},
   "outputs": [
    {
     "name": "stdout",
     "output_type": "stream",
     "text": [
      "Wall time: 6min 13s\n"
     ]
    }
   ],
   "source": [
    "%%time\n",
    "\n",
    "corpus_test= []\n",
    "for i in range(0, test.shape[0]):\n",
    "    corpus_test.append(review_to_words(test['Phrase'][i]))"
   ]
  },
  {
   "cell_type": "markdown",
   "metadata": {},
   "source": [
    "### The cleaning function is run on both data sets above, and then we add those clean phrases into a column in train and test dropping the original Phrase column."
   ]
  },
  {
   "cell_type": "code",
   "execution_count": 14,
   "metadata": {},
   "outputs": [],
   "source": [
    "train['Clean_Phrase']=corpus\n",
    "test['Clean_Phrase']=corpus_test"
   ]
  },
  {
   "cell_type": "code",
   "execution_count": 15,
   "metadata": {},
   "outputs": [
    {
     "data": {
      "text/html": [
       "<div>\n",
       "<style scoped>\n",
       "    .dataframe tbody tr th:only-of-type {\n",
       "        vertical-align: middle;\n",
       "    }\n",
       "\n",
       "    .dataframe tbody tr th {\n",
       "        vertical-align: top;\n",
       "    }\n",
       "\n",
       "    .dataframe thead th {\n",
       "        text-align: right;\n",
       "    }\n",
       "</style>\n",
       "<table border=\"1\" class=\"dataframe\">\n",
       "  <thead>\n",
       "    <tr style=\"text-align: right;\">\n",
       "      <th></th>\n",
       "      <th>PhraseId</th>\n",
       "      <th>SentenceId</th>\n",
       "      <th>Sentiment</th>\n",
       "      <th>Sentiment_words</th>\n",
       "      <th>Clean_Phrase</th>\n",
       "    </tr>\n",
       "  </thead>\n",
       "  <tbody>\n",
       "    <tr>\n",
       "      <th>0</th>\n",
       "      <td>1</td>\n",
       "      <td>1</td>\n",
       "      <td>1</td>\n",
       "      <td>somewhat negative</td>\n",
       "      <td>series escapade demonstrating adage good goose...</td>\n",
       "    </tr>\n",
       "    <tr>\n",
       "      <th>1</th>\n",
       "      <td>2</td>\n",
       "      <td>1</td>\n",
       "      <td>2</td>\n",
       "      <td>neutral</td>\n",
       "      <td>series escapade demonstrating adage good goose</td>\n",
       "    </tr>\n",
       "    <tr>\n",
       "      <th>2</th>\n",
       "      <td>3</td>\n",
       "      <td>1</td>\n",
       "      <td>2</td>\n",
       "      <td>neutral</td>\n",
       "      <td>series</td>\n",
       "    </tr>\n",
       "    <tr>\n",
       "      <th>3</th>\n",
       "      <td>4</td>\n",
       "      <td>1</td>\n",
       "      <td>2</td>\n",
       "      <td>neutral</td>\n",
       "      <td></td>\n",
       "    </tr>\n",
       "    <tr>\n",
       "      <th>4</th>\n",
       "      <td>5</td>\n",
       "      <td>1</td>\n",
       "      <td>2</td>\n",
       "      <td>neutral</td>\n",
       "      <td>series</td>\n",
       "    </tr>\n",
       "  </tbody>\n",
       "</table>\n",
       "</div>"
      ],
      "text/plain": [
       "   PhraseId  SentenceId  Sentiment    Sentiment_words  \\\n",
       "0         1           1          1  somewhat negative   \n",
       "1         2           1          2            neutral   \n",
       "2         3           1          2            neutral   \n",
       "3         4           1          2            neutral   \n",
       "4         5           1          2            neutral   \n",
       "\n",
       "                                        Clean_Phrase  \n",
       "0  series escapade demonstrating adage good goose...  \n",
       "1     series escapade demonstrating adage good goose  \n",
       "2                                             series  \n",
       "3                                                     \n",
       "4                                             series  "
      ]
     },
     "execution_count": 15,
     "metadata": {},
     "output_type": "execute_result"
    }
   ],
   "source": [
    "train.drop(['Phrase'],axis=1,inplace=True)\n",
    "test.drop(['Phrase'],axis=1,inplace=True)\n",
    "train.head()"
   ]
  },
  {
   "cell_type": "markdown",
   "metadata": {},
   "source": [
    "### Filtering by positive words to determine which words in the phrase are considered positive words and sorting them by top 10 (or whatever we want).  Later applied this to all the categories to create csv's for word cloud analysis on Tableau.  For future work, turn this into a loop since I repeated this step four times after this."
   ]
  },
  {
   "cell_type": "code",
   "execution_count": 16,
   "metadata": {},
   "outputs": [],
   "source": [
    "positive=train[train['Sentiment_words']==('positive')]\n",
    "\n",
    "words = ' '.join(positive['Clean_Phrase'])\n",
    "split_word = \" \".join([word for word in words.split()])\n",
    "\n",
    "split_wordlist = split_word.split()\n",
    "\n",
    "df = pd.DataFrame(np.array(split_wordlist))\n",
    "df.to_csv('positive.csv', index=False)"
   ]
  },
  {
   "cell_type": "code",
   "execution_count": 17,
   "metadata": {},
   "outputs": [],
   "source": [
    "negative=train[train['Sentiment_words']==('negative')]\n",
    "\n",
    "negative_words = ' '.join(negative['Clean_Phrase'])\n",
    "negative_split_word = \" \".join([word for word in negative_words.split()])\n",
    "\n",
    "negative_split_wordlist = negative_split_word.split()\n",
    "\n",
    "df = pd.DataFrame(np.array(negative_split_wordlist))\n",
    "df.to_csv('negative.csv', index=False)"
   ]
  },
  {
   "cell_type": "code",
   "execution_count": 18,
   "metadata": {},
   "outputs": [],
   "source": [
    "neutral=train[train['Sentiment_words']==('neutral')]\n",
    "\n",
    "neutral_words = ' '.join(neutral['Clean_Phrase'])\n",
    "neutral_split_word = \" \".join([word for word in neutral_words.split()])\n",
    "\n",
    "neutral_split_wordlist = neutral_split_word.split()\n",
    "\n",
    "df = pd.DataFrame(np.array(neutral_split_wordlist))\n",
    "df.to_csv('neutral.csv', index=False)"
   ]
  },
  {
   "cell_type": "code",
   "execution_count": 19,
   "metadata": {},
   "outputs": [],
   "source": [
    "pos=positive['Clean_Phrase']\n",
    "\n",
    "cvr = CountVectorizer(analyzer = \"word\",   \n",
    "                             tokenizer = None,    \n",
    "                             preprocessor = None, \n",
    "                             stop_words = None,   \n",
    "                             max_features = 2000)\n",
    "\n",
    "pos_words = cvr.fit_transform(pos)\n",
    "\n",
    "pos_words = pos_words.toarray()\n",
    "\n",
    "pos= cvr.get_feature_names()\n",
    "\n",
    "#Add up all the positive words\n",
    "dist = np.sum(pos_words, axis=0)\n"
   ]
  },
  {
   "cell_type": "code",
   "execution_count": 20,
   "metadata": {},
   "outputs": [
    {
     "data": {
      "text/html": [
       "<div>\n",
       "<style scoped>\n",
       "    .dataframe tbody tr th:only-of-type {\n",
       "        vertical-align: middle;\n",
       "    }\n",
       "\n",
       "    .dataframe tbody tr th {\n",
       "        vertical-align: top;\n",
       "    }\n",
       "\n",
       "    .dataframe thead th {\n",
       "        text-align: right;\n",
       "    }\n",
       "</style>\n",
       "<table border=\"1\" class=\"dataframe\">\n",
       "  <thead>\n",
       "    <tr style=\"text-align: right;\">\n",
       "      <th></th>\n",
       "      <th>word_count</th>\n",
       "      <th>word</th>\n",
       "    </tr>\n",
       "  </thead>\n",
       "  <tbody>\n",
       "    <tr>\n",
       "      <th>0</th>\n",
       "      <td>20</td>\n",
       "      <td>ability</td>\n",
       "    </tr>\n",
       "    <tr>\n",
       "      <th>1</th>\n",
       "      <td>32</td>\n",
       "      <td>able</td>\n",
       "    </tr>\n",
       "    <tr>\n",
       "      <th>2</th>\n",
       "      <td>9</td>\n",
       "      <td>absolute</td>\n",
       "    </tr>\n",
       "    <tr>\n",
       "      <th>3</th>\n",
       "      <td>24</td>\n",
       "      <td>absolutely</td>\n",
       "    </tr>\n",
       "    <tr>\n",
       "      <th>4</th>\n",
       "      <td>18</td>\n",
       "      <td>absorbing</td>\n",
       "    </tr>\n",
       "  </tbody>\n",
       "</table>\n",
       "</div>"
      ],
      "text/plain": [
       "   word_count        word\n",
       "0          20     ability\n",
       "1          32        able\n",
       "2           9    absolute\n",
       "3          24  absolutely\n",
       "4          18   absorbing"
      ]
     },
     "execution_count": 20,
     "metadata": {},
     "output_type": "execute_result"
    }
   ],
   "source": [
    "positive_new = pd.DataFrame(dist)\n",
    "\n",
    "positive_new.columns=['word_count']\n",
    "\n",
    "positive_new['word'] = pd.Series(pos, index=positive_new.index)\n",
    "\n",
    "positive_new.head()"
   ]
  },
  {
   "cell_type": "code",
   "execution_count": 21,
   "metadata": {},
   "outputs": [
    {
     "data": {
      "text/html": [
       "<div>\n",
       "<style scoped>\n",
       "    .dataframe tbody tr th:only-of-type {\n",
       "        vertical-align: middle;\n",
       "    }\n",
       "\n",
       "    .dataframe tbody tr th {\n",
       "        vertical-align: top;\n",
       "    }\n",
       "\n",
       "    .dataframe thead th {\n",
       "        text-align: right;\n",
       "    }\n",
       "</style>\n",
       "<table border=\"1\" class=\"dataframe\">\n",
       "  <thead>\n",
       "    <tr style=\"text-align: right;\">\n",
       "      <th></th>\n",
       "      <th>word</th>\n",
       "      <th>word_count</th>\n",
       "    </tr>\n",
       "  </thead>\n",
       "  <tbody>\n",
       "    <tr>\n",
       "      <th>652</th>\n",
       "      <td>film</td>\n",
       "      <td>1104</td>\n",
       "    </tr>\n",
       "    <tr>\n",
       "      <th>1149</th>\n",
       "      <td>movie</td>\n",
       "      <td>757</td>\n",
       "    </tr>\n",
       "    <tr>\n",
       "      <th>1223</th>\n",
       "      <td>one</td>\n",
       "      <td>517</td>\n",
       "    </tr>\n",
       "    <tr>\n",
       "      <th>1280</th>\n",
       "      <td>performance</td>\n",
       "      <td>472</td>\n",
       "    </tr>\n",
       "    <tr>\n",
       "      <th>161</th>\n",
       "      <td>best</td>\n",
       "      <td>394</td>\n",
       "    </tr>\n",
       "    <tr>\n",
       "      <th>715</th>\n",
       "      <td>funny</td>\n",
       "      <td>347</td>\n",
       "    </tr>\n",
       "    <tr>\n",
       "      <th>760</th>\n",
       "      <td>good</td>\n",
       "      <td>339</td>\n",
       "    </tr>\n",
       "    <tr>\n",
       "      <th>1933</th>\n",
       "      <td>well</td>\n",
       "      <td>317</td>\n",
       "    </tr>\n",
       "    <tr>\n",
       "      <th>1672</th>\n",
       "      <td>story</td>\n",
       "      <td>280</td>\n",
       "    </tr>\n",
       "    <tr>\n",
       "      <th>1990</th>\n",
       "      <td>year</td>\n",
       "      <td>275</td>\n",
       "    </tr>\n",
       "  </tbody>\n",
       "</table>\n",
       "</div>"
      ],
      "text/plain": [
       "             word  word_count\n",
       "652          film        1104\n",
       "1149        movie         757\n",
       "1223          one         517\n",
       "1280  performance         472\n",
       "161          best         394\n",
       "715         funny         347\n",
       "760          good         339\n",
       "1933         well         317\n",
       "1672        story         280\n",
       "1990         year         275"
      ]
     },
     "execution_count": 21,
     "metadata": {},
     "output_type": "execute_result"
    }
   ],
   "source": [
    "positive_new1=positive_new[['word','word_count']]\n",
    "\n",
    "sorted_positive_new1 = positive_new1.sort_values(['word_count'], ascending=False)\n",
    "\n",
    "sorted_positive_new1.head(10)"
   ]
  },
  {
   "cell_type": "markdown",
   "metadata": {},
   "source": [
    "### Getting data ready for model.  Using max features of 2000 due to memory errors on my laptop.  Unfortunately, this will limit the efficacy of my model especially for the Kaggle competition.  Future consideration should be given to running the entire dataset in AWS or other alternate \"Big Data\" platforms."
   ]
  },
  {
   "cell_type": "code",
   "execution_count": 22,
   "metadata": {},
   "outputs": [],
   "source": [
    "cv = CountVectorizer(stop_words='english', strip_accents='ascii', max_features= 2000)\n",
    "X = cv.fit_transform(corpus).toarray()  #  was x__train\n",
    "test_X = cv.fit_transform(corpus_test).toarray() # was x__test\n",
    "y = train.iloc[:, 2].values"
   ]
  },
  {
   "cell_type": "code",
   "execution_count": 23,
   "metadata": {},
   "outputs": [],
   "source": [
    "X_train, X_test, y_train, y_test = train_test_split(X, y, test_size = 0.40, random_state = 0)"
   ]
  },
  {
   "cell_type": "markdown",
   "metadata": {},
   "source": [
    "### Multinomial Naive Bayes Model"
   ]
  },
  {
   "cell_type": "code",
   "execution_count": 24,
   "metadata": {},
   "outputs": [
    {
     "name": "stdout",
     "output_type": "stream",
     "text": [
      "Wall time: 58.9 s\n",
      "Parser   : 142 ms\n"
     ]
    }
   ],
   "source": [
    "%%time\n",
    "\n",
    "pipeline1 = Pipeline([\n",
    "    ('tfidf', TfidfTransformer()),\n",
    "    ('clf', MultinomialNB())\n",
    "]) \n",
    "\n",
    "pipeline1.fit(X_train, y_train)\n"
   ]
  },
  {
   "cell_type": "code",
   "execution_count": 25,
   "metadata": {},
   "outputs": [],
   "source": [
    "y_pred = pipeline1.predict(X_test)\n",
    "y_real_pred = pipeline1.predict(test_X)"
   ]
  },
  {
   "cell_type": "code",
   "execution_count": 26,
   "metadata": {
    "scrolled": true
   },
   "outputs": [
    {
     "name": "stdout",
     "output_type": "stream",
     "text": [
      "                   precision    recall  f1-score   support\n",
      "\n",
      "         Negative       0.66      0.03      0.05      2931\n",
      "Somewhat Negative       0.49      0.13      0.21     10824\n",
      "          Neutral       0.58      0.94      0.72     31864\n",
      "Somewhat Positive       0.52      0.27      0.35     13068\n",
      "         Positive       0.66      0.05      0.10      3737\n",
      "\n",
      "      avg / total       0.56      0.57      0.48     62424\n",
      "\n",
      "Accuracy:0.566\n"
     ]
    }
   ],
   "source": [
    "print(classification_report(y_test, \n",
    "                    y_pred,\n",
    "                    labels=pipeline1.classes_,\n",
    "                    target_names = ['Negative', 'Somewhat Negative', 'Neutral', 'Somewhat Positive', 'Positive']))\n",
    "\n",
    "\n",
    "print(\"Accuracy:\" + str(round(pipeline1.score(X_test, y_test), 3)))"
   ]
  },
  {
   "cell_type": "code",
   "execution_count": 27,
   "metadata": {},
   "outputs": [
    {
     "data": {
      "text/plain": [
       "array([[   82,   773,  2001,    75,     0],\n",
       "       [   30,  1457,  8998,   337,     2],\n",
       "       [   10,   590, 30094,  1154,    16],\n",
       "       [    2,   113,  9387,  3484,    82],\n",
       "       [    0,    15,  1829,  1698,   195]], dtype=int64)"
      ]
     },
     "execution_count": 27,
     "metadata": {},
     "output_type": "execute_result"
    }
   ],
   "source": [
    "confusion_matrix(y_test, \n",
    "                 y_pred,\n",
    "                 labels=[0, 1, 2, 3, 4]\n",
    "            )"
   ]
  },
  {
   "cell_type": "markdown",
   "metadata": {},
   "source": [
    "### Bernoulli Naive Bayes Model"
   ]
  },
  {
   "cell_type": "code",
   "execution_count": 28,
   "metadata": {},
   "outputs": [
    {
     "name": "stdout",
     "output_type": "stream",
     "text": [
      "Wall time: 24.7 s\n"
     ]
    }
   ],
   "source": [
    "%%time\n",
    "\n",
    "pipeline2 = Pipeline([\n",
    "    ('tfidf', TfidfTransformer()),\n",
    "    ('clf', BernoulliNB())\n",
    "]) \n",
    "\n",
    "pipeline2.fit(X_train, y_train)"
   ]
  },
  {
   "cell_type": "code",
   "execution_count": 29,
   "metadata": {},
   "outputs": [],
   "source": [
    "y_pred = pipeline2.predict(X_test)\n",
    "y_real_pred = pipeline2.predict(test_X)"
   ]
  },
  {
   "cell_type": "code",
   "execution_count": 30,
   "metadata": {},
   "outputs": [
    {
     "name": "stdout",
     "output_type": "stream",
     "text": [
      "                   precision    recall  f1-score   support\n",
      "\n",
      "         Negative       0.39      0.21      0.28      2931\n",
      "Somewhat Negative       0.46      0.26      0.33     10824\n",
      "          Neutral       0.64      0.87      0.74     31864\n",
      "Somewhat Positive       0.50      0.35      0.41     13068\n",
      "         Positive       0.46      0.24      0.32      3737\n",
      "\n",
      "      avg / total       0.55      0.59      0.55     62424\n",
      "\n",
      "Accuracy:0.587\n"
     ]
    }
   ],
   "source": [
    "print(classification_report(y_test, \n",
    "                    y_pred,\n",
    "                    labels=pipeline2.classes_,\n",
    "                    target_names = ['Negative', 'Somewhat Negative', 'Neutral', 'Somewhat Positive', 'Positive']))\n",
    "\n",
    "\n",
    "print(\"Accuracy:\" + str(round(pipeline2.score(X_test, y_test), 3)))"
   ]
  },
  {
   "cell_type": "code",
   "execution_count": 31,
   "metadata": {},
   "outputs": [
    {
     "data": {
      "text/plain": [
       "array([[  627,   946,  1153,   175,    30],\n",
       "       [  586,  2818,  6491,   818,   111],\n",
       "       [  244,  1685, 27682,  2045,   208],\n",
       "       [  127,   586,  7010,  4631,   714],\n",
       "       [   37,   106,  1054,  1642,   898]], dtype=int64)"
      ]
     },
     "execution_count": 31,
     "metadata": {},
     "output_type": "execute_result"
    }
   ],
   "source": [
    "confusion_matrix(y_test, \n",
    "                 y_pred,\n",
    "                 labels=[0, 1, 2, 3, 4]\n",
    "            )"
   ]
  },
  {
   "cell_type": "markdown",
   "metadata": {},
   "source": [
    "### Trying out Random Forest Classifier with features run on a different computer as optimal."
   ]
  },
  {
   "cell_type": "code",
   "execution_count": 32,
   "metadata": {},
   "outputs": [
    {
     "name": "stdout",
     "output_type": "stream",
     "text": [
      "Wall time: 5min 38s\n",
      "Parser   : 190 ms\n"
     ]
    }
   ],
   "source": [
    "%%time\n",
    "\n",
    "pipeline3 = Pipeline([\n",
    "    ('tfidf', TfidfTransformer()),\n",
    "    ('clf', RandomForestClassifier(n_estimators = 11, min_samples_leaf = 1, max_features = 'log2',\n",
    "                                  criterion = 'entropy', bootstrap = False))\n",
    "]) \n",
    "\n",
    "pipeline3.fit(X_train, y_train)"
   ]
  },
  {
   "cell_type": "code",
   "execution_count": 33,
   "metadata": {},
   "outputs": [],
   "source": [
    "y_pred = pipeline3.predict(X_test)\n",
    "y_real_pred = pipeline3.predict(test_X)"
   ]
  },
  {
   "cell_type": "code",
   "execution_count": 34,
   "metadata": {},
   "outputs": [
    {
     "name": "stdout",
     "output_type": "stream",
     "text": [
      "                   precision    recall  f1-score   support\n",
      "\n",
      "         Negative       0.44      0.36      0.40      2931\n",
      "Somewhat Negative       0.49      0.39      0.43     10824\n",
      "          Neutral       0.68      0.82      0.74     31864\n",
      "Somewhat Positive       0.54      0.43      0.48     13068\n",
      "         Positive       0.50      0.33      0.40      3737\n",
      "\n",
      "      avg / total       0.60      0.61      0.60     62424\n",
      "\n",
      "Accuracy:0.614\n"
     ]
    }
   ],
   "source": [
    "print(classification_report(y_test, \n",
    "                    y_pred,\n",
    "                    labels=pipeline3.classes_,\n",
    "                    target_names = ['Negative', 'Somewhat Negative', 'Neutral', 'Somewhat Positive', 'Positive']))\n",
    "\n",
    "\n",
    "print(\"Accuracy:\" + str(round(pipeline3.score(X_test, y_test), 3)))"
   ]
  },
  {
   "cell_type": "code",
   "execution_count": 35,
   "metadata": {},
   "outputs": [
    {
     "data": {
      "text/plain": [
       "array([[ 1066,  1078,   706,    71,    10],\n",
       "       [  999,  4183,  5209,   394,    39],\n",
       "       [  322,  2683, 26213,  2474,   172],\n",
       "       [   50,   464,  5939,  5626,   989],\n",
       "       [   10,    63,   649,  1787,  1228]], dtype=int64)"
      ]
     },
     "execution_count": 35,
     "metadata": {},
     "output_type": "execute_result"
    }
   ],
   "source": [
    "confusion_matrix(y_test, \n",
    "                 y_pred,\n",
    "                 labels=[0, 1, 2, 3, 4]\n",
    "            )"
   ]
  },
  {
   "cell_type": "markdown",
   "metadata": {},
   "source": [
    "### Extra Trees Classifier"
   ]
  },
  {
   "cell_type": "code",
   "execution_count": 36,
   "metadata": {},
   "outputs": [
    {
     "name": "stdout",
     "output_type": "stream",
     "text": [
      "Wall time: 3min 25s\n"
     ]
    }
   ],
   "source": [
    "%%time\n",
    "\n",
    "pipeline6 = Pipeline([\n",
    "    ('tfidf', TfidfTransformer()),\n",
    "    ('clf', ExtraTreesClassifier())\n",
    "]) \n",
    "\n",
    "pipeline6.fit(X_train, y_train)"
   ]
  },
  {
   "cell_type": "code",
   "execution_count": 37,
   "metadata": {},
   "outputs": [],
   "source": [
    "y_pred = pipeline6.predict(X_test)\n",
    "y_real_pred = pipeline6.predict(test_X)"
   ]
  },
  {
   "cell_type": "code",
   "execution_count": 38,
   "metadata": {},
   "outputs": [
    {
     "name": "stdout",
     "output_type": "stream",
     "text": [
      "                   precision    recall  f1-score   support\n",
      "\n",
      "         Negative       0.43      0.35      0.39      2931\n",
      "Somewhat Negative       0.49      0.38      0.43     10824\n",
      "          Neutral       0.67      0.83      0.74     31864\n",
      "Somewhat Positive       0.54      0.43      0.48     13068\n",
      "         Positive       0.50      0.32      0.39      3737\n",
      "\n",
      "      avg / total       0.59      0.61      0.60     62424\n",
      "\n",
      "Accuracy:0.613\n"
     ]
    }
   ],
   "source": [
    "print(classification_report(y_test, \n",
    "                    y_pred,\n",
    "                    labels=pipeline6.classes_,\n",
    "                    target_names = ['Negative', 'Somewhat Negative', 'Neutral', 'Somewhat Positive', 'Positive']))\n",
    "\n",
    "\n",
    "print(\"Accuracy:\" + str(round(pipeline6.score(X_test, y_test), 3)))"
   ]
  },
  {
   "cell_type": "code",
   "execution_count": 39,
   "metadata": {},
   "outputs": [
    {
     "data": {
      "text/plain": [
       "array([[ 1033,  1064,   750,    73,    11],\n",
       "       [ 1002,  4103,  5272,   402,    45],\n",
       "       [  314,  2662, 26296,  2424,   168],\n",
       "       [   59,   441,  5987,  5607,   974],\n",
       "       [    8,    49,   680,  1788,  1212]], dtype=int64)"
      ]
     },
     "execution_count": 39,
     "metadata": {},
     "output_type": "execute_result"
    }
   ],
   "source": [
    "confusion_matrix(y_test, \n",
    "                 y_pred,\n",
    "                 labels=[0, 1, 2, 3, 4]\n",
    "            )"
   ]
  },
  {
   "cell_type": "markdown",
   "metadata": {},
   "source": [
    "### Bagging Classifier"
   ]
  },
  {
   "cell_type": "code",
   "execution_count": 40,
   "metadata": {},
   "outputs": [
    {
     "name": "stdout",
     "output_type": "stream",
     "text": [
      "Wall time: 8min 19s\n"
     ]
    }
   ],
   "source": [
    "%%time\n",
    "\n",
    "pipeline7 = Pipeline([\n",
    "    ('tfidf', TfidfTransformer()),\n",
    "    ('clf', BaggingClassifier())\n",
    "]) \n",
    "\n",
    "pipeline7.fit(X_train, y_train)"
   ]
  },
  {
   "cell_type": "code",
   "execution_count": 41,
   "metadata": {},
   "outputs": [],
   "source": [
    "y_pred = pipeline7.predict(X_test)\n",
    "y_real_pred = pipeline7.predict(test_X)"
   ]
  },
  {
   "cell_type": "code",
   "execution_count": 42,
   "metadata": {},
   "outputs": [
    {
     "name": "stdout",
     "output_type": "stream",
     "text": [
      "                   precision    recall  f1-score   support\n",
      "\n",
      "         Negative       0.45      0.30      0.36      2931\n",
      "Somewhat Negative       0.48      0.35      0.41     10824\n",
      "          Neutral       0.67      0.82      0.74     31864\n",
      "Somewhat Positive       0.52      0.43      0.47     13068\n",
      "         Positive       0.46      0.32      0.38      3737\n",
      "\n",
      "      avg / total       0.58      0.61      0.59     62424\n",
      "\n",
      "Accuracy:0.605\n"
     ]
    }
   ],
   "source": [
    "print(classification_report(y_test, \n",
    "                    y_pred,\n",
    "                    labels=pipeline7.classes_,\n",
    "                    target_names = ['Negative', 'Somewhat Negative', 'Neutral', 'Somewhat Positive', 'Positive']))\n",
    "\n",
    "\n",
    "print(\"Accuracy:\" + str(round(pipeline7.score(X_test, y_test), 3)))"
   ]
  },
  {
   "cell_type": "code",
   "execution_count": 43,
   "metadata": {},
   "outputs": [
    {
     "data": {
      "text/plain": [
       "array([[  869,  1122,   785,   139,    16],\n",
       "       [  779,  3842,  5530,   616,    57],\n",
       "       [  215,  2435, 26222,  2768,   224],\n",
       "       [   44,   487,  5801,  5653,  1083],\n",
       "       [    9,   108,   650,  1771,  1199]], dtype=int64)"
      ]
     },
     "execution_count": 43,
     "metadata": {},
     "output_type": "execute_result"
    }
   ],
   "source": [
    "confusion_matrix(y_test, \n",
    "                 y_pred,\n",
    "                 labels=[0, 1, 2, 3, 4]\n",
    "            )"
   ]
  },
  {
   "cell_type": "markdown",
   "metadata": {},
   "source": [
    "### Trying out Logistic Regression GridSearch which finishes in a reasonable amount of time"
   ]
  },
  {
   "cell_type": "code",
   "execution_count": 44,
   "metadata": {},
   "outputs": [
    {
     "name": "stdout",
     "output_type": "stream",
     "text": [
      "Wall time: 44.2 s\n"
     ]
    }
   ],
   "source": [
    "%%time\n",
    "\n",
    "pipeline4 = Pipeline([\n",
    "    ('tfidf', TfidfTransformer()),\n",
    "    ('clf', LogisticRegression(penalty = 'l1', C = 10))\n",
    "]) \n",
    "\n",
    "pipeline4.fit(X_train, y_train)"
   ]
  },
  {
   "cell_type": "code",
   "execution_count": 45,
   "metadata": {},
   "outputs": [],
   "source": [
    "y_pred = pipeline4.predict(X_test)\n",
    "y_real_pred = pipeline4.predict(test_X)"
   ]
  },
  {
   "cell_type": "code",
   "execution_count": 46,
   "metadata": {},
   "outputs": [
    {
     "name": "stdout",
     "output_type": "stream",
     "text": [
      "                   precision    recall  f1-score   support\n",
      "\n",
      "         Negative       0.49      0.17      0.25      2931\n",
      "Somewhat Negative       0.47      0.27      0.34     10824\n",
      "          Neutral       0.64      0.87      0.74     31864\n",
      "Somewhat Positive       0.51      0.41      0.45     13068\n",
      "         Positive       0.54      0.24      0.33      3737\n",
      "\n",
      "      avg / total       0.57      0.60      0.56     62424\n",
      "\n",
      "Accuracy:0.6\n"
     ]
    }
   ],
   "source": [
    "print(classification_report(y_test, \n",
    "                    y_pred,\n",
    "                    labels=pipeline4.classes_,\n",
    "                    target_names = ['Negative', 'Somewhat Negative', 'Neutral', 'Somewhat Positive', 'Positive']))\n",
    "\n",
    "\n",
    "print(\"Accuracy:\" + str(round(pipeline4.score(X_test, y_test), 3)))"
   ]
  },
  {
   "cell_type": "code",
   "execution_count": 47,
   "metadata": {},
   "outputs": [
    {
     "data": {
      "text/plain": [
       "array([[  494,  1108,  1117,   194,    18],\n",
       "       [  365,  2878,  6696,   845,    40],\n",
       "       [  108,  1534, 27830,  2267,   125],\n",
       "       [   28,   465,  6635,  5353,   587],\n",
       "       [    4,    81,   903,  1849,   900]], dtype=int64)"
      ]
     },
     "execution_count": 47,
     "metadata": {},
     "output_type": "execute_result"
    }
   ],
   "source": [
    "confusion_matrix(y_test, \n",
    "                 y_pred,\n",
    "                 labels=[0, 1, 2, 3, 4]\n",
    "            )"
   ]
  },
  {
   "cell_type": "markdown",
   "metadata": {},
   "source": [
    "<h1><center>Appendix</center></h1>\n",
    "### Gridsearch Parameters for Random Forest and K-Nearest Neighbors"
   ]
  },
  {
   "cell_type": "code",
   "execution_count": null,
   "metadata": {},
   "outputs": [],
   "source": [
    "params = {\n",
    "    'n_estimators' : [1, 3, 5, 7, 9, 11],\n",
    "    'min_samples_leaf' : [1, 3, 5, 7, 9],\n",
    "    'criterion': ['gini', 'entropy'],\n",
    "    'max_features': ['auto', 'log2'],\n",
    "    'bootstrap': [True, False]\n",
    "}\n",
    "\n",
    "GridSearchCV(\n",
    "    RandomForestClassifier(),\n",
    "    params\n",
    ")"
   ]
  },
  {
   "cell_type": "code",
   "execution_count": null,
   "metadata": {},
   "outputs": [],
   "source": [
    "random_forest = GridSearchCV(\n",
    "    RandomForestClassifier(),\n",
    "    params\n",
    ").fit(X_train, y_train)"
   ]
  },
  {
   "cell_type": "code",
   "execution_count": null,
   "metadata": {},
   "outputs": [],
   "source": [
    "random_forest.score(X_test, y_test)"
   ]
  },
  {
   "cell_type": "code",
   "execution_count": null,
   "metadata": {},
   "outputs": [],
   "source": [
    "knn =GridSearchCV(\n",
    "    KNeighborsClassifier(),\n",
    "    {\n",
    "        'n_neighbors':[1, 3, 5, 7, 9],\n",
    "        'weights':['uniform', 'distance'],\n",
    "        'algorithm':['auto', 'ball_tree', 'kd_tree', 'brute']\n",
    "\n",
    "    }\n",
    ")"
   ]
  },
  {
   "cell_type": "code",
   "execution_count": null,
   "metadata": {},
   "outputs": [],
   "source": [
    "%%time\n",
    "\n",
    "knn.fit(X_train, y_train)"
   ]
  },
  {
   "cell_type": "code",
   "execution_count": null,
   "metadata": {},
   "outputs": [],
   "source": [
    "knn.score(X_test, y_test)"
   ]
  },
  {
   "cell_type": "markdown",
   "metadata": {},
   "source": [
    "### Kaggle Submission"
   ]
  },
  {
   "cell_type": "code",
   "execution_count": null,
   "metadata": {},
   "outputs": [],
   "source": [
    "predictions = pipeline4.predict(test_X)  # for submission to Kaggle\n",
    "\n",
    "test['Sentiment'] = predictions\n",
    "\n",
    "test[['PhraseId', 'Sentiment']].to_csv('logistic.csv', index=False)"
   ]
  },
  {
   "cell_type": "code",
   "execution_count": null,
   "metadata": {},
   "outputs": [],
   "source": []
  }
 ],
 "metadata": {
  "kernelspec": {
   "display_name": "Python [conda env:tensorflow]",
   "language": "python",
   "name": "conda-env-tensorflow-py"
  },
  "language_info": {
   "codemirror_mode": {
    "name": "ipython",
    "version": 3
   },
   "file_extension": ".py",
   "mimetype": "text/x-python",
   "name": "python",
   "nbconvert_exporter": "python",
   "pygments_lexer": "ipython3",
   "version": "3.6.4"
  }
 },
 "nbformat": 4,
 "nbformat_minor": 2
}
